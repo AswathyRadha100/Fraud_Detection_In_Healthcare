{
 "cells": [
  {
   "cell_type": "code",
   "execution_count": 2,
   "metadata": {},
   "outputs": [
    {
     "ename": "ModuleNotFoundError",
     "evalue": "No module named 'Draft_wrangle'",
     "output_type": "error",
     "traceback": [
      "\u001b[0;31m---------------------------------------------------------------------------\u001b[0m",
      "\u001b[0;31mModuleNotFoundError\u001b[0m                       Traceback (most recent call last)",
      "\u001b[1;32m/Users/ramirolopez/codeup-data-science/capstone/Fraud_Detection_In_Healthcare/Workbooks/Ramiro/EDA_notebook.ipynb Cell 1\u001b[0m line \u001b[0;36m1\n\u001b[1;32m     <a href='vscode-notebook-cell:/Users/ramirolopez/codeup-data-science/capstone/Fraud_Detection_In_Healthcare/Workbooks/Ramiro/EDA_notebook.ipynb#W0sdW50aXRsZWQ%3D?line=10'>11</a>\u001b[0m \u001b[39mimport\u001b[39;00m \u001b[39mseaborn\u001b[39;00m \u001b[39mas\u001b[39;00m \u001b[39msns\u001b[39;00m\n\u001b[1;32m     <a href='vscode-notebook-cell:/Users/ramirolopez/codeup-data-science/capstone/Fraud_Detection_In_Healthcare/Workbooks/Ramiro/EDA_notebook.ipynb#W0sdW50aXRsZWQ%3D?line=11'>12</a>\u001b[0m \u001b[39m# Importing warnings to ignore warnings\u001b[39;00m\n\u001b[0;32m---> <a href='vscode-notebook-cell:/Users/ramirolopez/codeup-data-science/capstone/Fraud_Detection_In_Healthcare/Workbooks/Ramiro/EDA_notebook.ipynb#W0sdW50aXRsZWQ%3D?line=12'>13</a>\u001b[0m \u001b[39mimport\u001b[39;00m \u001b[39mDraft_wrangle\u001b[39;00m \u001b[39mas\u001b[39;00m \u001b[39mw\u001b[39;00m\n\u001b[1;32m     <a href='vscode-notebook-cell:/Users/ramirolopez/codeup-data-science/capstone/Fraud_Detection_In_Healthcare/Workbooks/Ramiro/EDA_notebook.ipynb#W0sdW50aXRsZWQ%3D?line=13'>14</a>\u001b[0m \u001b[39m# Importing sklearn for machine learning\u001b[39;00m\n\u001b[1;32m     <a href='vscode-notebook-cell:/Users/ramirolopez/codeup-data-science/capstone/Fraud_Detection_In_Healthcare/Workbooks/Ramiro/EDA_notebook.ipynb#W0sdW50aXRsZWQ%3D?line=14'>15</a>\u001b[0m \u001b[39mfrom\u001b[39;00m \u001b[39msklearn\u001b[39;00m\u001b[39m.\u001b[39;00m\u001b[39mpreprocessing\u001b[39;00m \u001b[39mimport\u001b[39;00m OneHotEncoder, LabelEncoder \n",
      "\u001b[0;31mModuleNotFoundError\u001b[0m: No module named 'Draft_wrangle'"
     ]
    }
   ],
   "source": [
    "# Importing pandas for data manipulation and analysis\n",
    "import pandas as pd\n",
    "# Importing numpy for scientific computing\n",
    "import numpy as np\n",
    "# Importing matplotlib for data visualization\n",
    "import matplotlib.pyplot as plt\n",
    "# Importing colormaps for data visualization\n",
    "from matplotlib import colormaps\n",
    "list(colormaps)\n",
    "# Importing seaborn for data visualization\n",
    "import seaborn as sns\n",
    "# Importing warnings to ignore warnings\n",
    "import Draft_wrangle as w\n",
    "# Importing sklearn for machine learning\n",
    "from sklearn.preprocessing import OneHotEncoder, LabelEncoder \n",
    "# Importing sklearn for machine learning        \n",
    "from sklearn.model_selection import train_test_split\n",
    "# Import the DecisionTreeClassifier from scikit-learn \n",
    "from sklearn.tree import DecisionTreeClassifier\n",
    "# Import the RandomForestClassifier from scikit-learn\n",
    "from sklearn.ensemble import RandomForestClassifier\n",
    "# Import the KNeighborsClassifier from scikit-learn\n",
    "from sklearn.neighbors import KNeighborsClassifier\n",
    "# Import the LogisticRegression from scikit-learn\n",
    "from sklearn.linear_model import LogisticRegression\n",
    "# Import warnings to ignore warnings\n",
    "import warnings\n",
    "warnings.filterwarnings(\"ignore\")\n",
    "import sklearn.preprocessing\n",
    "from sklearn.linear_model import LinearRegression, TweedieRegressor \n",
    "from sklearn.preprocessing import StandardScaler, RobustScaler, QuantileTransformer, MinMaxScaler\n",
    "from sklearn.metrics import accuracy_score, precision_score, recall_score, f1_score, roc_auc_score, confusion_matrix\n",
    "\n",
    "# Import feature selection tools\n",
    "from sklearn.feature_selection import SelectKBest, f_regression, RFE\n",
    "\n",
    "# Import train_test_split for model evaluation\n",
    "from sklearn.model_selection import train_test_split\n",
    "\n",
    "# Import R-squared (coefficient of determination) metric for model evaluation\n",
    "from sklearn.metrics import mean_absolute_error, mean_squared_error, r2_score\n",
    "\n",
    "# Import scikit-learn preprocessing module for data preparation and feature engineering\n",
    "import sklearn.preprocessing\n",
    "\n",
    "# Import for LassoLars regression model\n",
    "from sklearn.linear_model import LassoLars\n",
    "\n",
    "# Import for DecisionTreeRegressor for decision tree-based regression\n",
    "from sklearn.tree import DecisionTreeRegressor\n",
    "\n",
    "# Import for mean_absolute_error metric to evaluate model performance\n",
    "from sklearn.metrics import mean_absolute_error\n",
    "\n",
    "# Import for RandomForestRegressor, an ensemble method for regression\n",
    "from sklearn.ensemble import RandomForestRegressor\n",
    "# Import for KNeighborsRegressor, a k-nearest neighbors regression model\n",
    "from sklearn.neighbors import KNeighborsRegressor\n",
    "\n",
    "# Import for another instance of RandomForestRegressor, \n",
    "# possibly for comparison or ensemble use\n",
    "from sklearn.ensemble import RandomForestRegressor\n",
    "import lightgbm as lgb"
   ]
  },
  {
   "cell_type": "code",
   "execution_count": 1,
   "metadata": {},
   "outputs": [
    {
     "ename": "NameError",
     "evalue": "name 'w' is not defined",
     "output_type": "error",
     "traceback": [
      "\u001b[0;31m---------------------------------------------------------------------------\u001b[0m",
      "\u001b[0;31mNameError\u001b[0m                                 Traceback (most recent call last)",
      "\u001b[1;32m/Users/ramirolopez/codeup-data-science/capstone/Fraud_Detection_In_Healthcare/Workbooks/Ramiro/EDA_notebook.ipynb Cell 2\u001b[0m line \u001b[0;36m2\n\u001b[1;32m      <a href='vscode-notebook-cell:/Users/ramirolopez/codeup-data-science/capstone/Fraud_Detection_In_Healthcare/Workbooks/Ramiro/EDA_notebook.ipynb#W1sdW50aXRsZWQ%3D?line=0'>1</a>\u001b[0m \u001b[39m# call the function to acquire the data from wrangle file for test data\u001b[39;00m\n\u001b[0;32m----> <a href='vscode-notebook-cell:/Users/ramirolopez/codeup-data-science/capstone/Fraud_Detection_In_Healthcare/Workbooks/Ramiro/EDA_notebook.ipynb#W1sdW50aXRsZWQ%3D?line=1'>2</a>\u001b[0m test_outpatient_df,test_inpatient_df, test_beneficiary_df, test_df \u001b[39m=\u001b[39m w\u001b[39m.\u001b[39macquire_test_data()\n\u001b[1;32m      <a href='vscode-notebook-cell:/Users/ramirolopez/codeup-data-science/capstone/Fraud_Detection_In_Healthcare/Workbooks/Ramiro/EDA_notebook.ipynb#W1sdW50aXRsZWQ%3D?line=2'>3</a>\u001b[0m \u001b[39m# call the function to acquire the data from wrangle file for train data\u001b[39;00m\n\u001b[1;32m      <a href='vscode-notebook-cell:/Users/ramirolopez/codeup-data-science/capstone/Fraud_Detection_In_Healthcare/Workbooks/Ramiro/EDA_notebook.ipynb#W1sdW50aXRsZWQ%3D?line=3'>4</a>\u001b[0m train_outpatient_df, train_inpatient_df, train_beneficiary_df, train_df \u001b[39m=\u001b[39m w\u001b[39m.\u001b[39macquire_train_data()\n",
      "\u001b[0;31mNameError\u001b[0m: name 'w' is not defined"
     ]
    }
   ],
   "source": [
    "# call the function to acquire the data from wrangle file for test data\n",
    "test_outpatient_df,test_inpatient_df, test_beneficiary_df, test_df = w.acquire_test_data()\n",
    "# call the function to acquire the data from wrangle file for train data\n",
    "train_outpatient_df, train_inpatient_df, train_beneficiary_df, train_df = w.acquire_train_data()"
   ]
  }
 ],
 "metadata": {
  "kernelspec": {
   "display_name": "codeup",
   "language": "python",
   "name": "python3"
  },
  "language_info": {
   "codemirror_mode": {
    "name": "ipython",
    "version": 3
   },
   "file_extension": ".py",
   "mimetype": "text/x-python",
   "name": "python",
   "nbconvert_exporter": "python",
   "pygments_lexer": "ipython3",
   "version": "3.11.6"
  }
 },
 "nbformat": 4,
 "nbformat_minor": 2
}
